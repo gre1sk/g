{
  "nbformat": 4,
  "nbformat_minor": 0,
  "metadata": {
    "colab": {
      "provenance": [],
      "authorship_tag": "ABX9TyPBTRAmkVPyy6Mrm2r5BY7r",
      "include_colab_link": true
    },
    "kernelspec": {
      "name": "python3",
      "display_name": "Python 3"
    },
    "language_info": {
      "name": "python"
    }
  },
  "cells": [
    {
      "cell_type": "markdown",
      "metadata": {
        "id": "view-in-github",
        "colab_type": "text"
      },
      "source": [
        "<a href=\"https://colab.research.google.com/github/gre1sk/g/blob/main/python_DZ.ipynb\" target=\"_parent\"><img src=\"https://colab.research.google.com/assets/colab-badge.svg\" alt=\"Open In Colab\"/></a>"
      ]
    },
    {
      "cell_type": "code",
      "execution_count": null,
      "metadata": {
        "id": "gg_KBMGyiil6",
        "colab": {
          "base_uri": "https://localhost:8080/"
        },
        "outputId": "97185728-9836-4c8f-e538-93d6e7be93ef"
      },
      "outputs": [
        {
          "output_type": "execute_result",
          "data": {
            "text/plain": [
              "0"
            ]
          },
          "metadata": {},
          "execution_count": 6
        }
      ],
      "source": [
        "import random\n",
        "a = random.randint(1,9)\n",
        "b  = random.randint(1,9)\n",
        "v = random.randint(1,9)\n",
        "sum = 0\n",
        "l = [a,b,v]\n",
        "for i in l:\n",
        "  if i%2 == 0:\n",
        "    sum +=1\n",
        "sum"
      ]
    },
    {
      "cell_type": "code",
      "source": [],
      "metadata": {
        "id": "aQkRAsqIAAYp"
      },
      "execution_count": null,
      "outputs": []
    },
    {
      "cell_type": "code",
      "source": [
        "q = random.randint(100,999)\n",
        "z = q//100%10\n",
        "x = q//10%10\n",
        "c = q%10\n",
        "if z!=x!=c:\n",
        "  print('не равняются друг другу')\n",
        "else:\n",
        "  print('какие то числа одинаковые')"
      ],
      "metadata": {
        "colab": {
          "base_uri": "https://localhost:8080/"
        },
        "id": "r3YBXRhn0Hgz",
        "outputId": "cdb963cc-b494-4e06-a2fc-c9c1a3b3f4e2"
      },
      "execution_count": null,
      "outputs": [
        {
          "output_type": "stream",
          "name": "stdout",
          "text": [
            "какие то числа одинаковые \n"
          ]
        }
      ]
    },
    {
      "cell_type": "code",
      "source": [
        "x = random.randint(-9,9)\n",
        "y = random.randint(-9,9)\n",
        "abs = [x,y]\n",
        "for i in abs[:-1]:\n",
        "  for s in abs[1:]:\n",
        "    if i > 0 and s > 0:\n",
        "      print('1 четверть')\n",
        "    if i < 0 and s > 0:\n",
        "      print('2 четверть')\n",
        "    if i < 0 and s < 0:\n",
        "      print('3 четверть')\n",
        "    if i > 0 and s < 0:\n",
        "      print('4 четверть')"
      ],
      "metadata": {
        "colab": {
          "base_uri": "https://localhost:8080/"
        },
        "id": "kEpfR9is0Hn2",
        "outputId": "6d8d3317-5163-4d5e-b29c-26b6df587a1a"
      },
      "execution_count": null,
      "outputs": [
        {
          "output_type": "stream",
          "name": "stdout",
          "text": [
            "2 четверть\n"
          ]
        }
      ]
    },
    {
      "cell_type": "code",
      "source": [
        "g = random.randint(1,999)\n",
        "f = random.randint(1,999)\n",
        "u = random.randint(1,999)\n",
        "if g==f==u:\n",
        "  print(3)\n",
        "elif g == f and f !=u or f == g and g!=u or u==g  and g!=f:\n",
        "  print(2)\n",
        "elif g!=f and g!=u or f!=g and f!=u or u!=f and u!=g:\n",
        "  print(0)\n"
      ],
      "metadata": {
        "colab": {
          "base_uri": "https://localhost:8080/"
        },
        "id": "6qdvaIBl0HqN",
        "outputId": "d7f81cfd-5073-4e58-fd75-3b4d1ed08c36"
      },
      "execution_count": null,
      "outputs": [
        {
          "output_type": "stream",
          "name": "stdout",
          "text": [
            "0\n"
          ]
        }
      ]
    },
    {
      "cell_type": "code",
      "source": [
        "def main():\n",
        "  x=str(input()) #1.1\n",
        "  b = x[::-1]\n",
        "  if b ==x:\n",
        "    print('True')\n",
        "  else:\n",
        "    print('False')\n",
        "if __name__=='__main__':\n",
        "  main()"
      ],
      "metadata": {
        "id": "dSobY4sf0Htt",
        "colab": {
          "base_uri": "https://localhost:8080/"
        },
        "outputId": "3146a6e4-40cf-4a81-a1ab-4ebf7064b223"
      },
      "execution_count": null,
      "outputs": [
        {
          "output_type": "stream",
          "name": "stdout",
          "text": [
            "wert\n",
            "False\n"
          ]
        }
      ]
    },
    {
      "cell_type": "code",
      "source": [
        "a = int(input('цифра:'))\n",
        "c = str(input('действие:'))\n",
        "b = int(input('цифра:'))\n",
        "if c =='+':\n",
        "    print(a+b)\n",
        "if c=='-':\n",
        "    print(a-b)\n",
        "elif c=='*':\n",
        "    print(a*b)\n",
        "elif c =='/' and b!=0:\n",
        "  print(a/b)\n",
        "if c =='/' and b==0:\n",
        "    print('На ноль делить нельзя!')\n",
        "if c!='+'and c!='-'and c!='*'and c!='/':\n",
        "    print('Неверная операция')"
      ],
      "metadata": {
        "id": "BuGd1Gem0HwM",
        "colab": {
          "base_uri": "https://localhost:8080/"
        },
        "outputId": "089a0e68-d1b6-44ce-fd2e-5c5645ceb81e"
      },
      "execution_count": null,
      "outputs": [
        {
          "output_type": "stream",
          "name": "stdout",
          "text": [
            "цифра:0\n",
            "действие:/\n",
            "цифра:12\n",
            "0.0\n"
          ]
        }
      ]
    },
    {
      "cell_type": "code",
      "source": [
        "def main(): #1.2\n",
        "  x = int(input())\n",
        "  if -2**7<=x<=2**7-1:\n",
        "    if x<0:\n",
        "        k= str(abs(x))\n",
        "        k = k[::-1]\n",
        "        print('-'+int(k))\n",
        "    if int(x)>0:\n",
        "        x = str(x)\n",
        "        x = x[::-1]\n",
        "        print(int(x))\n",
        "  else:\n",
        "    print('no')\n",
        "\n",
        "if __name__==\"__main__\":\n",
        "  main()\n"
      ],
      "metadata": {
        "colab": {
          "base_uri": "https://localhost:8080/"
        },
        "id": "nlBuvVgutwDm",
        "outputId": "20d7cb83-e1d7-4cf5-8cc0-d30939b5a889"
      },
      "execution_count": null,
      "outputs": [
        {
          "output_type": "stream",
          "name": "stdout",
          "text": [
            "120\n",
            "21\n"
          ]
        }
      ]
    },
    {
      "cell_type": "code",
      "source": [
        "q = input()\n",
        "u = ''\n",
        "for i in q:\n",
        "  for a in i:\n",
        "    if not a==a:\n",
        "      u += a\n",
        "print(u)\n"
      ],
      "metadata": {
        "id": "2chO507D2ihn",
        "colab": {
          "base_uri": "https://localhost:8080/"
        },
        "outputId": "31258311-3c31-4201-d1ec-3aa70116bc87"
      },
      "execution_count": null,
      "outputs": [
        {
          "output_type": "stream",
          "name": "stdout",
          "text": [
            "qweasdfdqw\n",
            "\n"
          ]
        }
      ]
    },
    {
      "cell_type": "code",
      "source": [
        "s = str(-150)\n",
        "if s.startswith('-') == True:\n",
        "  s= int(s)\n",
        "  s = abs(s)\n",
        "  s= str(s)\n",
        "  s=s[::-1]\n",
        "  print('-'+s)\n"
      ],
      "metadata": {
        "id": "SP_o56Z5twKt",
        "colab": {
          "base_uri": "https://localhost:8080/"
        },
        "outputId": "31ffe5ca-ba49-44b7-afac-59057e433b66"
      },
      "execution_count": null,
      "outputs": [
        {
          "output_type": "stream",
          "name": "stdout",
          "text": [
            "-051\n"
          ]
        }
      ]
    },
    {
      "cell_type": "code",
      "source": [
        "s = input()\n",
        "y = ''\n",
        "for i in s:\n",
        "    if i not in y and i != ' ':\n",
        "        y += i\n",
        "print(y)"
      ],
      "metadata": {
        "colab": {
          "base_uri": "https://localhost:8080/"
        },
        "id": "k47SGSu6cQIN",
        "outputId": "75c8ab6d-c355-485a-c577-a174829a3c49"
      },
      "execution_count": null,
      "outputs": [
        {
          "output_type": "stream",
          "name": "stdout",
          "text": [
            "prrker\n",
            "prke\n"
          ]
        }
      ]
    },
    {
      "cell_type": "code",
      "source": [
        "s = input()\n",
        "r = \"\".join(set(s))\n",
        "print(r)"
      ],
      "metadata": {
        "id": "H_qTOn722ij1",
        "colab": {
          "base_uri": "https://localhost:8080/"
        },
        "outputId": "5fc6bdb9-614d-46b6-ca7e-fa1c589ebfb5"
      },
      "execution_count": null,
      "outputs": [
        {
          "output_type": "stream",
          "name": "stdout",
          "text": [
            "wqettesad\n",
            "qastdwe\n"
          ]
        }
      ]
    },
    {
      "cell_type": "code",
      "source": [
        "def main():#2.2\n",
        "  x = str(input()).split()\n",
        "  x = x[::-1]\n",
        "  x = \" \".join(x).capitalize()\n",
        "  print(str(x))\n",
        "if __name__==\"__main__\":\n",
        "  main()\n"
      ],
      "metadata": {
        "id": "1qCsTEHzbd7D",
        "colab": {
          "base_uri": "https://localhost:8080/"
        },
        "outputId": "6816c2d4-1d64-451e-def0-313b52b126c9"
      },
      "execution_count": null,
      "outputs": [
        {
          "output_type": "stream",
          "name": "stdout",
          "text": [
            "Waes Tfrfr       Asadwa\n",
            "Asadwa tfrfr waes\n"
          ]
        }
      ]
    },
    {
      "cell_type": "code",
      "source": [
        "a = [1,2]\n",
        "a[:1]=[3,4]\n",
        "a[[for]for]"
      ],
      "metadata": {
        "id": "P3B_F8VBeJRS",
        "colab": {
          "base_uri": "https://localhost:8080/"
        },
        "outputId": "cc268192-f3b5-4014-df94-c3b278ac6e36"
      },
      "execution_count": null,
      "outputs": [
        {
          "output_type": "execute_result",
          "data": {
            "text/plain": [
              "[3, 4, 2]"
            ]
          },
          "metadata": {},
          "execution_count": 18
        }
      ]
    },
    {
      "cell_type": "code",
      "source": [
        "import random\n",
        "a = random.randint(-999,999)\n",
        "n = int(input())\n",
        "squares = [random.randint(-999,999) for i in range(n)]\n",
        "squares"
      ],
      "metadata": {
        "id": "UsUG28wreJTG",
        "colab": {
          "base_uri": "https://localhost:8080/"
        },
        "outputId": "d4c47369-3160-42e3-a444-5e1653032ba4"
      },
      "execution_count": null,
      "outputs": [
        {
          "name": "stdout",
          "output_type": "stream",
          "text": [
            "3\n"
          ]
        },
        {
          "output_type": "execute_result",
          "data": {
            "text/plain": [
              "[63, -669, 954]"
            ]
          },
          "metadata": {},
          "execution_count": 20
        }
      ]
    },
    {
      "cell_type": "code",
      "source": [
        "mult = 1\n",
        "for i in range(1, 11):\n",
        "   if i % 2 != 0:\n",
        "      continue\n",
        "   if i % 9 == 0:\n",
        "      break\n",
        "   mult *= i\n",
        "   print(mult)\n",
        "   print(i)"
      ],
      "metadata": {
        "colab": {
          "base_uri": "https://localhost:8080/"
        },
        "id": "bSghml58Fgzu",
        "outputId": "8c754281-26c4-4d31-8875-2a26a3a62383"
      },
      "execution_count": null,
      "outputs": [
        {
          "output_type": "stream",
          "name": "stdout",
          "text": [
            "2\n",
            "2\n",
            "8\n",
            "4\n",
            "48\n",
            "6\n",
            "384\n",
            "8\n",
            "3840\n",
            "10\n"
          ]
        }
      ]
    },
    {
      "cell_type": "code",
      "source": [
        "counter = 0\n",
        "for i in range(99, 102):\n",
        "    temp = i\n",
        "    while temp > 0:\n",
        "        counter += 1\n",
        "        temp //= 10\n",
        "print(counter)"
      ],
      "metadata": {
        "colab": {
          "base_uri": "https://localhost:8080/"
        },
        "id": "kwCL86RkFg2b",
        "outputId": "7491566c-fbbf-4e85-f85e-115369d3e6fb"
      },
      "execution_count": null,
      "outputs": [
        {
          "output_type": "stream",
          "name": "stdout",
          "text": [
            "8\n"
          ]
        }
      ]
    },
    {
      "cell_type": "code",
      "source": [
        "w = int(input())\n",
        "o = str()\n",
        "for i in range(1,w+1):\n",
        "    i = str(i)\n",
        "    o+=i\n",
        "    for j in range(1):\n",
        "        z = o[:-1]\n",
        "        print(o+z[::-1], end=' ')\n",
        "    print()"
      ],
      "metadata": {
        "id": "JLTFAt-UFg50",
        "colab": {
          "base_uri": "https://localhost:8080/"
        },
        "outputId": "90cc6e92-4a6d-4a10-edcc-ecdb017b33c3"
      },
      "execution_count": null,
      "outputs": [
        {
          "output_type": "stream",
          "name": "stdout",
          "text": [
            "12\n",
            "1 \n",
            "12 \n",
            "1231 \n",
            "123421 \n",
            "12345321 \n",
            "1234564321 \n",
            "123456754321 \n",
            "12345678654321 \n",
            "1234567897654321 \n",
            "12345678910987654321 \n",
            "123456789101101987654321 \n",
            "1234567891011121101987654321 \n"
          ]
        }
      ]
    },
    {
      "cell_type": "code",
      "source": [
        "import itertools #3.2\n",
        "def main():\n",
        "  x= list(input())\n",
        "  y = itertools.permutations(x)\n",
        "  q = list()\n",
        "  for i in y:\n",
        "      w = [*i]\n",
        "      q.append(w)\n",
        "  print(q)\n",
        "if __name__==\"__main__\":\n",
        "  main()\n"
      ],
      "metadata": {
        "id": "YyP8_mdJFhH_",
        "colab": {
          "base_uri": "https://localhost:8080/",
          "height": 130
        },
        "outputId": "c5f5c314-7d7e-4953-8627-7b1fc82f845d"
      },
      "execution_count": null,
      "outputs": [
        {
          "output_type": "error",
          "ename": "IndentationError",
          "evalue": "ignored",
          "traceback": [
            "\u001b[0;36m  File \u001b[0;32m\"<ipython-input-1-f1147a387e55>\"\u001b[0;36m, line \u001b[0;32m6\u001b[0m\n\u001b[0;31m    for i in y:\u001b[0m\n\u001b[0m    ^\u001b[0m\n\u001b[0;31mIndentationError\u001b[0m\u001b[0;31m:\u001b[0m unexpected indent\n"
          ]
        }
      ]
    },
    {
      "cell_type": "code",
      "source": [
        "from itertools import combinations\n",
        "import math  # 3.1\n",
        "q = [float(input()) for _ in range(int(input()))]\n",
        "c, z, x = int(input('введите число к которому мы стремимся:')),list(combinations(q, 4)),[]\n",
        "for i in z:\n",
        "    su = math.fsum(i)\n",
        "    if su == c:\n",
        "        print(i,'\\n',su)\n",
        "    else:\n",
        "        raz = abs(c - su)\n",
        "        x.append([raz,su,i])\n",
        "m = min(x)[0]\n",
        "for l in range(len(x)):\n",
        "  p = x[l]\n",
        "  if p[0] == m:\n",
        "    print(p[1],'\\n',p[2])"
      ],
      "metadata": {
        "id": "wSLRAI5PrZHv",
        "colab": {
          "base_uri": "https://localhost:8080/",
          "height": 443
        },
        "outputId": "16d45ff2-3410-4030-d30f-8ba74a4ffa1a"
      },
      "execution_count": null,
      "outputs": [
        {
          "output_type": "stream",
          "name": "stdout",
          "text": [
            "6\n",
            "1\n",
            "2\n",
            "3\n",
            "4\n",
            "5\n",
            "6\n",
            "введите число к которому мы стремимся:12\n",
            "(1.0, 2.0, 3.0, 6.0) \n",
            " 12.0\n",
            "(1.0, 2.0, 4.0, 5.0) \n",
            " 12.0\n"
          ]
        },
        {
          "output_type": "error",
          "ename": "TypeError",
          "evalue": "ignored",
          "traceback": [
            "\u001b[0;31m---------------------------------------------------------------------------\u001b[0m",
            "\u001b[0;31mTypeError\u001b[0m                                 Traceback (most recent call last)",
            "\u001b[0;32m<ipython-input-32-6c3a6271c9de>\u001b[0m in \u001b[0;36m<module>\u001b[0;34m\u001b[0m\n\u001b[1;32m     13\u001b[0m      \u001b[0mraz\u001b[0m\u001b[0;34m=\u001b[0m\u001b[0mabs\u001b[0m\u001b[0;34m(\u001b[0m\u001b[0mraz\u001b[0m\u001b[0;34m)\u001b[0m\u001b[0;34m\u001b[0m\u001b[0;34m\u001b[0m\u001b[0m\n\u001b[1;32m     14\u001b[0m      \u001b[0mx\u001b[0m\u001b[0;34m.\u001b[0m\u001b[0mappend\u001b[0m\u001b[0;34m(\u001b[0m\u001b[0;34m[\u001b[0m\u001b[0mi\u001b[0m\u001b[0;34m,\u001b[0m\u001b[0msum\u001b[0m\u001b[0;34m,\u001b[0m\u001b[0mraz\u001b[0m\u001b[0;34m]\u001b[0m\u001b[0;34m)\u001b[0m\u001b[0;34m\u001b[0m\u001b[0;34m\u001b[0m\u001b[0m\n\u001b[0;32m---> 15\u001b[0;31m \u001b[0mmi\u001b[0m \u001b[0;34m=\u001b[0m \u001b[0mmin\u001b[0m\u001b[0;34m(\u001b[0m\u001b[0mx\u001b[0m\u001b[0;34m)\u001b[0m\u001b[0;34m[\u001b[0m\u001b[0;34m-\u001b[0m\u001b[0;36m1\u001b[0m\u001b[0;34m]\u001b[0m\u001b[0;34m\u001b[0m\u001b[0;34m\u001b[0m\u001b[0m\n\u001b[0m\u001b[1;32m     16\u001b[0m \u001b[0;32mfor\u001b[0m \u001b[0mi\u001b[0m \u001b[0;32min\u001b[0m \u001b[0mrange\u001b[0m\u001b[0;34m(\u001b[0m\u001b[0mlen\u001b[0m\u001b[0;34m(\u001b[0m\u001b[0mx\u001b[0m\u001b[0;34m)\u001b[0m\u001b[0;34m)\u001b[0m\u001b[0;34m:\u001b[0m\u001b[0;34m\u001b[0m\u001b[0;34m\u001b[0m\u001b[0m\n\u001b[1;32m     17\u001b[0m   \u001b[0mesle\u001b[0m \u001b[0;34m=\u001b[0m \u001b[0mx\u001b[0m\u001b[0;34m[\u001b[0m\u001b[0mi\u001b[0m\u001b[0;34m]\u001b[0m\u001b[0;34m\u001b[0m\u001b[0;34m\u001b[0m\u001b[0m\n",
            "\u001b[0;31mTypeError\u001b[0m: 'int' object is not callable"
          ]
        }
      ]
    },
    {
      "cell_type": "code",
      "source": [
        "x =[['1','2','3'],\n",
        "    ['4','5','6'],\n",
        "    ['7','8','9']]\n",
        "q,a,w,t=[],[],[],[]\n",
        "for i in range(len(x)):\n",
        "  x[0].append(x[i][0])\n",
        "for i in range(len(x)):\n",
        "    a.append(x[i][-1])\n",
        "    r = list(map(list,w))\n",
        "print(x)\n",
        "x =[['1','2','3','4'],\n",
        "    ['5','6','7','8'],\n",
        "    ['9','10','11','12'],\n",
        "    ['13','14','15','16']]     "
      ],
      "metadata": {
        "id": "CIU6kNlD4ZDJ"
      },
      "execution_count": null,
      "outputs": []
    },
    {
      "cell_type": "code",
      "source": [
        "x =[['1','2','3'],\n",
        "    ['4','5','6'],\n",
        "    ['7','8','9']]\n",
        "q = x[::-1]\n",
        "z = zip(*q)\n",
        "w = [*z]\n",
        "print(*w, sep = '\\n')\n"
      ],
      "metadata": {
        "id": "b0IYsm5W4ZGe",
        "colab": {
          "base_uri": "https://localhost:8080/"
        },
        "outputId": "3c2e4011-bb31-4fff-bb73-005dcc504247"
      },
      "execution_count": null,
      "outputs": [
        {
          "output_type": "stream",
          "name": "stdout",
          "text": [
            "('7', '4', '1')\n",
            "('8', '5', '2')\n",
            "('9', '6', '3')\n"
          ]
        }
      ]
    },
    {
      "cell_type": "code",
      "source": [
        "\n",
        "import tensorflow as tf #matrith\n",
        "a = tf.constant(['1','2','3','4','5','6','7','8','9','10','11','12','13','14','15','16'] , shape=(4,4))\n",
        "t = tf.transpose(a, perm=[1,0])\n",
        "print(t.numpy)"
      ],
      "metadata": {
        "colab": {
          "base_uri": "https://localhost:8080/"
        },
        "id": "t3PbT-me3f3K",
        "outputId": "b0180a3f-a5e0-4f43-af9d-b43c79108a62"
      },
      "execution_count": null,
      "outputs": [
        {
          "output_type": "stream",
          "name": "stdout",
          "text": [
            "<bound method _EagerTensorBase.numpy of <tf.Tensor: shape=(4, 4), dtype=string, numpy=\n",
            "array([[b'1', b'5', b'9', b'13'],\n",
            "       [b'2', b'6', b'10', b'14'],\n",
            "       [b'3', b'7', b'11', b'15'],\n",
            "       [b'4', b'8', b'12', b'16']], dtype=object)>>\n"
          ]
        }
      ]
    },
    {
      "cell_type": "code",
      "source": [
        "#8.1\n",
        "def main():\n",
        "  list1, list2 = [0, 33, 37, 6, 10, 44, 13, 47, 16, 18, 22, 25], [1, 38, 48, 8, 41, 7, 12, 47, 16, 40, 20, 23, 25]\n",
        "  list1, list2 = set(list1), set(list2)\n",
        "  list3 = list1.intersection(list2)\n",
        "  print(*list3 , sep=',') \n",
        "  list4 = list1.union(list2)\n",
        "  print(*list4 , sep=',') \n",
        "  list5  = list1.difference(list2)\n",
        "  print(*list5 , sep=',') \n",
        "  list6  = list2.difference(list1)\n",
        "  print(*list6 , sep=',')\n",
        "if __name__=='__main__':\n",
        "  main()"
      ],
      "metadata": {
        "colab": {
          "base_uri": "https://localhost:8080/"
        },
        "id": "FPiyEa8glCLR",
        "outputId": "c16ca456-500a-4a34-aae4-a880e6235e58"
      },
      "execution_count": null,
      "outputs": [
        {
          "output_type": "stream",
          "name": "stdout",
          "text": [
            "16,25,47\n",
            "0,1,6,7,8,10,12,13,16,18,20,22,23,25,33,37,38,40,41,44,47,48\n",
            "0,33,37,6,10,44,13,18,22\n",
            "1,38,7,8,41,40,12,48,20,23\n"
          ]
        }
      ]
    },
    {
      "cell_type": "code",
      "source": [
        "from itertools import combinations\n",
        "def main(): #8.2\n",
        "  x = ['a','b','c','d','d']\n",
        "  x2 = set(x)\n",
        "  w = set()\n",
        "  for i in range(len(x)):\n",
        "     w.update(combinations(x2,i+1))\n",
        "     map_iterator =tuple(map(set,w))\n",
        "  print(*map_iterator , sep = ',')\n",
        "if __name__==\"__main__\":\n",
        "  main()"
      ],
      "metadata": {
        "colab": {
          "base_uri": "https://localhost:8080/"
        },
        "id": "Yx0IRV6X3f5q",
        "outputId": "6f8d610b-5cf2-42f2-d527-9ce6b91d6495"
      },
      "execution_count": null,
      "outputs": [
        {
          "output_type": "stream",
          "name": "stdout",
          "text": [
            "{'b', 'c', 'd', 'a'},{'c', 'd', 'a'},{'b', 'd'},{'b'},{'c', 'a'},{'b', 'c'},{'c', 'd'},{'d', 'a'},{'b', 'd', 'a'},{'c'},{'a'},{'b', 'c', 'd'},{'d'},{'b', 'a'},{'b', 'c', 'a'}\n"
          ]
        }
      ]
    },
    {
      "cell_type": "code",
      "source": [
        "from itertools import combinations\n",
        "def main():\n",
        "    def santa_users():\n",
        "x = ['a','b','c','d','d']\n",
        "x2 = set(x)\n",
        "q = set([tuple(set(x)) for i in range(len(x))])\n",
        "q.update(combinations(i,(len(x2)-1)))\n",
        "q"
      ],
      "metadata": {
        "id": "_p9Z6abO3f8G",
        "colab": {
          "base_uri": "https://localhost:8080/"
        },
        "outputId": "e6a08b32-31f1-4417-960c-1c77f0035419"
      },
      "execution_count": null,
      "outputs": [
        {
          "output_type": "execute_result",
          "data": {
            "text/plain": [
              "{('b', 'c', 'a'),\n",
              " ('b', 'c', 'd'),\n",
              " ('b', 'c', 'd', 'a'),\n",
              " ('b', 'd', 'a'),\n",
              " ('c', 'd', 'a')}"
            ]
          },
          "metadata": {},
          "execution_count": 19
        }
      ]
    },
    {
      "cell_type": "code",
      "source": [],
      "metadata": {
        "id": "bCG6TJSK3f-1",
        "colab": {
          "base_uri": "https://localhost:8080/"
        },
        "outputId": "a2b16ee8-d276-4c66-c966-6c620324c46b"
      },
      "execution_count": null,
      "outputs": [
        {
          "output_type": "stream",
          "name": "stdout",
          "text": [
            "{}\n"
          ]
        }
      ]
    },
    {
      "cell_type": "code",
      "source": [],
      "metadata": {
        "colab": {
          "base_uri": "https://localhost:8080/"
        },
        "id": "Rs6ynIXxxY-e",
        "outputId": "ef10f0c6-a065-477a-b041-0500a813421c"
      },
      "execution_count": null,
      "outputs": [
        {
          "output_type": "execute_result",
          "data": {
            "text/plain": [
              "{'name1 surname1': [12345],\n",
              " 'name2 surname2': [],\n",
              " 'name3 surname3': [12354],\n",
              " 'name4 surname4': [12435]}"
            ]
          },
          "metadata": {},
          "execution_count": 132
        }
      ]
    },
    {
      "cell_type": "code",
      "source": [
        "\n",
        "x = [[\"name1 surname1\", 12345], [\"name2 surname2\"], [\"name3 surname3\", 12354], [\"name4 surname4\", 12435]]\n",
        "z = []\n",
        "f = []\n",
        "g1 = {}\n",
        "for i in x:\n",
        "  z.append(i[0])\n",
        "  f.append([j for j in i if isinstance(j, int)])\n",
        "#s = dict(zip(z,f))\n",
        "for i in f:\n",
        "    s = dict(zip(z,i))\n",
        "    print(s)"
      ],
      "metadata": {
        "colab": {
          "base_uri": "https://localhost:8080/"
        },
        "id": "BzK2KCAOxZA-",
        "outputId": "d7dc28f8-7936-4850-e3aa-47292aa3435a"
      },
      "execution_count": null,
      "outputs": [
        {
          "output_type": "stream",
          "name": "stdout",
          "text": [
            "{'name1 surname1': 12345}\n",
            "{}\n",
            "{'name1 surname1': 12354}\n",
            "{'name1 surname1': 12435}\n"
          ]
        }
      ]
    },
    {
      "cell_type": "code",
      "source": [
        "def main(): #9.1\n",
        "  def santa_users(x):\n",
        "    for i in x:\n",
        "      if len(i) == 1:\n",
        "       i.append(None)\n",
        "    print(dict(x))\n",
        "  santa_users([[\"name1 surname1\", 12345], [\"name2 surname2\"], [\"name3 surname3\", 12354], [\"name4 surname4\", 12435]])\n",
        "if __name__=='__main__':\n",
        "  main()"
      ],
      "metadata": {
        "colab": {
          "base_uri": "https://localhost:8080/"
        },
        "id": "UFaMIeb_xZGW",
        "outputId": "48380e26-3d79-4564-c04b-1552071fb3dc"
      },
      "execution_count": null,
      "outputs": [
        {
          "output_type": "stream",
          "name": "stdout",
          "text": [
            "{'name1 surname1': 12345, 'name2 surname2': None, 'name3 surname3': 12354, 'name4 surname4': 12435}\n"
          ]
        }
      ]
    },
    {
      "cell_type": "code",
      "source": [],
      "metadata": {
        "id": "QHb5ryaEmy_Z"
      },
      "execution_count": null,
      "outputs": []
    },
    {
      "cell_type": "code",
      "source": [
        "n,m = int(input()),int(input())\n",
        "x = n**m\n",
        "z= (x + 4) % 4\n",
        "print(z)"
      ],
      "metadata": {
        "id": "OgRJvN9gmzB_"
      },
      "execution_count": null,
      "outputs": []
    },
    {
      "cell_type": "code",
      "source": [
        "x = [int(input()) for i in range(int(input())) if ]"
      ],
      "metadata": {
        "id": "atLfXBVFmzFF"
      },
      "execution_count": null,
      "outputs": []
    },
    {
      "cell_type": "code",
      "source": [],
      "metadata": {
        "id": "NJrWSgc3HXyQ"
      },
      "execution_count": null,
      "outputs": []
    },
    {
      "cell_type": "code",
      "source": [],
      "metadata": {
        "id": "tUveCU2wHX0q"
      },
      "execution_count": null,
      "outputs": []
    },
    {
      "cell_type": "code",
      "source": [],
      "metadata": {
        "id": "3pZHQmUvHX2_"
      },
      "execution_count": null,
      "outputs": []
    },
    {
      "cell_type": "code",
      "source": [],
      "metadata": {
        "id": "uijlbB32HX5Q"
      },
      "execution_count": null,
      "outputs": []
    },
    {
      "cell_type": "code",
      "source": [],
      "metadata": {
        "id": "YtVKDIHLHX8s"
      },
      "execution_count": null,
      "outputs": []
    }
  ]
}