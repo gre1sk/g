{
  "nbformat": 4,
  "nbformat_minor": 0,
  "metadata": {
    "colab": {
      "provenance": [],
      "authorship_tag": "ABX9TyP2UB4FrgmiZyTQaMl4g6qJ",
      "include_colab_link": true
    },
    "kernelspec": {
      "name": "python3",
      "display_name": "Python 3"
    },
    "language_info": {
      "name": "python"
    }
  },
  "cells": [
    {
      "cell_type": "markdown",
      "metadata": {
        "id": "view-in-github",
        "colab_type": "text"
      },
      "source": [
        "<a href=\"https://colab.research.google.com/github/gre1sk/g/blob/main/python_DZ.ipynb\" target=\"_parent\"><img src=\"https://colab.research.google.com/assets/colab-badge.svg\" alt=\"Open In Colab\"/></a>"
      ]
    },
    {
      "cell_type": "code",
      "execution_count": null,
      "metadata": {
        "id": "gg_KBMGyiil6",
        "colab": {
          "base_uri": "https://localhost:8080/"
        },
        "outputId": "97185728-9836-4c8f-e538-93d6e7be93ef"
      },
      "outputs": [
        {
          "output_type": "execute_result",
          "data": {
            "text/plain": [
              "0"
            ]
          },
          "metadata": {},
          "execution_count": 6
        }
      ],
      "source": [
        "import random\n",
        "a = random.randint(1,9)\n",
        "b  = random.randint(1,9)\n",
        "v = random.randint(1,9)\n",
        "sum = 0\n",
        "l = [a,b,v]\n",
        "for i in l:\n",
        "  if i%2 == 0:\n",
        "    sum +=1\n",
        "sum"
      ]
    },
    {
      "cell_type": "code",
      "source": [
        "q = random.randint(100,999)\n",
        "z = q//100%10\n",
        "x = q//10%10\n",
        "c = q%10\n",
        "if z!=x!=c:\n",
        "  print('не равняются друг другу')\n",
        "else:\n",
        "  print('какие то числа одинаковые')"
      ],
      "metadata": {
        "colab": {
          "base_uri": "https://localhost:8080/"
        },
        "id": "r3YBXRhn0Hgz",
        "outputId": "cdb963cc-b494-4e06-a2fc-c9c1a3b3f4e2"
      },
      "execution_count": null,
      "outputs": [
        {
          "output_type": "stream",
          "name": "stdout",
          "text": [
            "какие то числа одинаковые \n"
          ]
        }
      ]
    },
    {
      "cell_type": "code",
      "source": [
        "g = random.randint(1,999)\n",
        "f = random.randint(1,999)\n",
        "u = random.randint(1,999)\n",
        "if g==f==u:\n",
        "  print(3)\n",
        "elif g == f and f !=u or f == g and g!=u or u==g  and g!=f:\n",
        "  print(2)\n",
        "elif g!=f and g!=u or f!=g and f!=u or u!=f and u!=g:\n",
        "  print(0)\n"
      ],
      "metadata": {
        "colab": {
          "base_uri": "https://localhost:8080/"
        },
        "id": "6qdvaIBl0HqN",
        "outputId": "d7f81cfd-5073-4e58-fd75-3b4d1ed08c36"
      },
      "execution_count": null,
      "outputs": [
        {
          "output_type": "stream",
          "name": "stdout",
          "text": [
            "0\n"
          ]
        }
      ]
    },
    {
      "cell_type": "code",
      "source": [
        "def main():\n",
        "  x=str(input()) #1.1\n",
        "  b = x[::-1]\n",
        "  if b ==x:\n",
        "    print('True')\n",
        "  else:\n",
        "    print('False')\n",
        "if __name__=='__main__':\n",
        "  main()"
      ],
      "metadata": {
        "id": "dSobY4sf0Htt",
        "colab": {
          "base_uri": "https://localhost:8080/"
        },
        "outputId": "3146a6e4-40cf-4a81-a1ab-4ebf7064b223"
      },
      "execution_count": null,
      "outputs": [
        {
          "output_type": "stream",
          "name": "stdout",
          "text": [
            "wert\n",
            "False\n"
          ]
        }
      ]
    },
    {
      "cell_type": "code",
      "source": [
        "def main(): #1.2\n",
        "  x = int(input())\n",
        "  if -2**7<=x<=2**7-1:\n",
        "    if x<0:\n",
        "        k= str(abs(x))\n",
        "        k = k[::-1]\n",
        "        print('-'+int(k))\n",
        "    if int(x)>0:\n",
        "        x = str(x)\n",
        "        x = x[::-1]\n",
        "        print(int(x))\n",
        "  else:\n",
        "    print('no')\n",
        "\n",
        "if __name__==\"__main__\":\n",
        "  main()\n"
      ],
      "metadata": {
        "colab": {
          "base_uri": "https://localhost:8080/"
        },
        "id": "nlBuvVgutwDm",
        "outputId": "20d7cb83-e1d7-4cf5-8cc0-d30939b5a889"
      },
      "execution_count": null,
      "outputs": [
        {
          "output_type": "stream",
          "name": "stdout",
          "text": [
            "120\n",
            "21\n"
          ]
        }
      ]
    },
    {
      "cell_type": "code",
      "source": [
        "def main():#2.2\n",
        "  x = str(input()).split()\n",
        "  x = x[::-1]\n",
        "  x = \" \".join(x).capitalize()\n",
        "  print(str(x))\n",
        "if __name__==\"__main__\":\n",
        "  main()\n"
      ],
      "metadata": {
        "id": "1qCsTEHzbd7D",
        "colab": {
          "base_uri": "https://localhost:8080/"
        },
        "outputId": "6816c2d4-1d64-451e-def0-313b52b126c9"
      },
      "execution_count": null,
      "outputs": [
        {
          "output_type": "stream",
          "name": "stdout",
          "text": [
            "Waes Tfrfr       Asadwa\n",
            "Asadwa tfrfr waes\n"
          ]
        }
      ]
    },
    {
      "cell_type": "code",
      "source": [
        "import itertools #3.2\n",
        "def main():\n",
        "  x= list(input())\n",
        "  y = itertools.permutations(x)\n",
        "  q = list()\n",
        "  for i in y:\n",
        "      w = [*i]\n",
        "      q.append(w)\n",
        "  print(q)\n",
        "if __name__==\"__main__\":\n",
        "  main()\n"
      ],
      "metadata": {
        "id": "YyP8_mdJFhH_",
        "colab": {
          "base_uri": "https://localhost:8080/"
        },
        "outputId": "a3149368-1253-445b-9bf6-18f2acd78b0c"
      },
      "execution_count": null,
      "outputs": [
        {
          "output_type": "stream",
          "name": "stdout",
          "text": [
            "4\n",
            "[['4']]\n"
          ]
        }
      ]
    },
    {
      "cell_type": "code",
      "source": [
        "from itertools import combinations\n",
        "import math  # 3.1\n",
        "def main():\n",
        "  q = [float(input()) for _ in range(int(input()))]\n",
        "  c, z, x = int(input('введите число к которому мы стремимся:')),list(combinations(q, 4)),[]\n",
        "  for i in z:\n",
        "    su = math.fsum(i)\n",
        "    if su == c:\n",
        "        print(i,'\\n',su)\n",
        "    else:\n",
        "        raz = abs(c - su)\n",
        "        x.append([raz,su,i])\n",
        "  m = min(x)[0]\n",
        "  for l in range(len(x)):\n",
        "    p = x[l]\n",
        "    if p[0] == m:\n",
        "      print(p[1],'\\n',p[2])\n",
        "if __name__=='__main__':\n",
        "  main()"
      ],
      "metadata": {
        "id": "wSLRAI5PrZHv",
        "colab": {
          "base_uri": "https://localhost:8080/"
        },
        "outputId": "29df2034-6425-4fb3-a989-3c26212afe3a"
      },
      "execution_count": null,
      "outputs": [
        {
          "output_type": "stream",
          "name": "stdout",
          "text": [
            "4\n",
            "1\n",
            "2\n",
            "3\n",
            "4\n",
            "введите число к которому мы стремимся:11\n",
            "10.0 \n",
            " (1.0, 2.0, 3.0, 4.0)\n"
          ]
        }
      ]
    },
    {
      "cell_type": "code",
      "source": [
        "x =[['1','2','3'], #матрица\n",
        "    ['4','5','6'],\n",
        "    ['7','8','9']]\n",
        "q = x[::-1]\n",
        "z = zip(*q)\n",
        "w = [*z]\n",
        "print(*w, sep = '\\n')\n"
      ],
      "metadata": {
        "id": "b0IYsm5W4ZGe",
        "colab": {
          "base_uri": "https://localhost:8080/"
        },
        "outputId": "3c2e4011-bb31-4fff-bb73-005dcc504247"
      },
      "execution_count": null,
      "outputs": [
        {
          "output_type": "stream",
          "name": "stdout",
          "text": [
            "('7', '4', '1')\n",
            "('8', '5', '2')\n",
            "('9', '6', '3')\n"
          ]
        }
      ]
    },
    {
      "cell_type": "code",
      "source": [
        "#8.1\n",
        "def main():\n",
        "  list1, list2 = [0, 33, 37, 6, 10, 44, 13, 47, 16, 18, 22, 25], [1, 38, 48, 8, 41, 7, 12, 47, 16, 40, 20, 23, 25]\n",
        "  list1, list2 = set(list1), set(list2)\n",
        "  list3 = list1.intersection(list2)\n",
        "  print(*list3 , sep=',') \n",
        "  list4 = list1.union(list2)\n",
        "  print(*list4 , sep=',') \n",
        "  list5  = list1.difference(list2)\n",
        "  print(*list5 , sep=',') \n",
        "  list6  = list2.difference(list1)\n",
        "  print(*list6 , sep=',')\n",
        "if __name__=='__main__':\n",
        "  main()"
      ],
      "metadata": {
        "colab": {
          "base_uri": "https://localhost:8080/"
        },
        "id": "FPiyEa8glCLR",
        "outputId": "c16ca456-500a-4a34-aae4-a880e6235e58"
      },
      "execution_count": null,
      "outputs": [
        {
          "output_type": "stream",
          "name": "stdout",
          "text": [
            "16,25,47\n",
            "0,1,6,7,8,10,12,13,16,18,20,22,23,25,33,37,38,40,41,44,47,48\n",
            "0,33,37,6,10,44,13,18,22\n",
            "1,38,7,8,41,40,12,48,20,23\n"
          ]
        }
      ]
    },
    {
      "cell_type": "code",
      "source": [
        "from itertools import combinations\n",
        "def main(): #8.2\n",
        "  x = ['a','b','c','d','d']\n",
        "  x2 = set(x)\n",
        "  w = set()\n",
        "  for i in range(len(x)):\n",
        "     w.update(combinations(x2,i+1))\n",
        "     map_iterator =tuple(map(set,w))\n",
        "  print(*map_iterator , sep = ',')\n",
        "if __name__==\"__main__\":\n",
        "  main()"
      ],
      "metadata": {
        "colab": {
          "base_uri": "https://localhost:8080/"
        },
        "id": "Yx0IRV6X3f5q",
        "outputId": "6f8d610b-5cf2-42f2-d527-9ce6b91d6495"
      },
      "execution_count": null,
      "outputs": [
        {
          "output_type": "stream",
          "name": "stdout",
          "text": [
            "{'b', 'c', 'd', 'a'},{'c', 'd', 'a'},{'b', 'd'},{'b'},{'c', 'a'},{'b', 'c'},{'c', 'd'},{'d', 'a'},{'b', 'd', 'a'},{'c'},{'a'},{'b', 'c', 'd'},{'d'},{'b', 'a'},{'b', 'c', 'a'}\n"
          ]
        }
      ]
    },
    {
      "cell_type": "code",
      "source": [
        "def main(): #9.1\n",
        "  def santa_users(x):\n",
        "    for i in x:\n",
        "      if len(i) == 1:\n",
        "       i.append(None)\n",
        "    print(dict(x))\n",
        "  santa_users([[\"name1 surname1\", 12345], [\"name2 surname2\"], [\"name3 surname3\", 12354], [\"name4 surname4\", 12435]])\n",
        "if __name__=='__main__':\n",
        "  main()"
      ],
      "metadata": {
        "colab": {
          "base_uri": "https://localhost:8080/"
        },
        "id": "UFaMIeb_xZGW",
        "outputId": "48380e26-3d79-4564-c04b-1552071fb3dc"
      },
      "execution_count": null,
      "outputs": [
        {
          "output_type": "stream",
          "name": "stdout",
          "text": [
            "{'name1 surname1': 12345, 'name2 surname2': None, 'name3 surname3': 12354, 'name4 surname4': 12435}\n"
          ]
        }
      ]
    },
    {
      "cell_type": "code",
      "source": [
        "def main(): #9.2\n",
        "  arab = {'I':1,'V':5,'X':10,'L':50,'C':100,'D':500,'M':1000}\n",
        "  s = input()\n",
        "  x = list(''.join(s))\n",
        "  a = []\n",
        "  for i in range(len(x)-1):\n",
        "    if x[i]=='I' and x[i+1]=='V':\n",
        "        a.append(-2)\n",
        "    if x[i]=='I' and x[i+1]=='X':\n",
        "        a.append(-2)\n",
        "    if x[i]=='X' and x[i+1]=='L':\n",
        "        a.append(-20)\n",
        "    if x[i]=='X' and x[i+1]=='C':\n",
        "        a.append(-20)\n",
        "    if x[i]=='C' and x[i+1]=='D':\n",
        "        a.append(-200)\n",
        "    if x[i]=='C' and x[i+1]=='M':\n",
        "        a.append(-200)\n",
        "  for i in x:\n",
        "    if i in arab:\n",
        "      a.append(arab[i])\n",
        "  print(sum(a))\n",
        "if __name__ =='__main__':\n",
        "  main()"
      ],
      "metadata": {
        "id": "uijlbB32HX5Q",
        "colab": {
          "base_uri": "https://localhost:8080/"
        },
        "outputId": "d19e8054-cbce-43ab-b24b-5a91cbe4e3b2"
      },
      "execution_count": 106,
      "outputs": [
        {
          "output_type": "stream",
          "name": "stdout",
          "text": [
            "II\n",
            "2\n"
          ]
        }
      ]
    },
    {
      "cell_type": "code",
      "source": [],
      "metadata": {
        "id": "YtVKDIHLHX8s"
      },
      "execution_count": null,
      "outputs": []
    },
    {
      "cell_type": "code",
      "source": [],
      "metadata": {
        "id": "B7ghJs3qGOGJ"
      },
      "execution_count": null,
      "outputs": []
    },
    {
      "cell_type": "code",
      "source": [],
      "metadata": {
        "id": "HwQGas3VGOIT"
      },
      "execution_count": null,
      "outputs": []
    },
    {
      "cell_type": "code",
      "source": [],
      "metadata": {
        "id": "kyiyGV7WGOLR"
      },
      "execution_count": null,
      "outputs": []
    }
  ]
}